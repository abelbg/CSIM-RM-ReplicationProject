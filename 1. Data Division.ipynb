{
 "cells": [
  {
   "cell_type": "code",
   "execution_count": 3,
   "metadata": {},
   "outputs": [],
   "source": [
    "import os\n",
    "import math\n",
    "files = [file for file in os.listdir(os.getcwd() + \"/HEBBdata\") if \".txt\" in file]"
   ]
  },
  {
   "cell_type": "code",
   "execution_count": 4,
   "metadata": {},
   "outputs": [],
   "source": [
    "for file in files:\n",
    "    if \"AudioFirst\" in file:\n",
    "        with open(os.getcwd() + \"/HEBBdata/\" + file, \"r\") as src:\n",
    "            with open(os.getcwd() + \"/HEBBdataDivided/\" + file[:-4] + \" - Audio.txt\", \"w\") as audiodest:\n",
    "                for line in src.readlines()[:96]:\n",
    "                    audiodest.write(line)\n",
    "        with open(os.getcwd() + \"/HEBBdata/\" + file, \"r\") as src:\n",
    "            with open(os.getcwd() + \"/HEBBdataDivided/\" + file[:-4] + \" - Visual.txt\", \"w\") as visualdest:\n",
    "                for i, line in enumerate(src.readlines()[96:]):\n",
    "                    visualdest.write(line.replace(str(math.ceil((i+1)/2)+48), str(math.ceil((i+1)/2))))\n",
    "    elif \"VisualFirst\" in file:\n",
    "        with open(os.getcwd() + \"/HEBBdata/\" + file, \"r\") as src:\n",
    "            with open(os.getcwd() + \"/HEBBdataDivided/\" + file[:-4] + \" - Visual.txt\", \"w\") as visualdest:\n",
    "                for line in src.readlines()[:96]:\n",
    "                    visualdest.write(line)\n",
    "        with open(os.getcwd() + \"/HEBBdata/\" + file, \"r\") as src:\n",
    "            with open(os.getcwd() + \"/HEBBdataDivided/\" + file[:-4] + \" - Audio.txt\", \"w\") as audiodest:\n",
    "                for i, line in enumerate(src.readlines()[96:]):\n",
    "                    audiodest.write(line.replace(str(math.ceil((i+1)/2)+48), str(math.ceil((i+1)/2))))"
   ]
  }
 ],
 "metadata": {
  "interpreter": {
   "hash": "f0f8e6f4f41eb99a257cdf385e51ff3a5e7303bb8a82aa6fdd8fd014d29b0b5b"
  },
  "kernelspec": {
   "display_name": "Python 3.9.7 64-bit ('base': conda)",
   "language": "python",
   "name": "python3"
  },
  "language_info": {
   "codemirror_mode": {
    "name": "ipython",
    "version": 3
   },
   "file_extension": ".py",
   "mimetype": "text/x-python",
   "name": "python",
   "nbconvert_exporter": "python",
   "pygments_lexer": "ipython3",
   "version": "3.8.11"
  },
  "orig_nbformat": 4
 },
 "nbformat": 4,
 "nbformat_minor": 2
}
