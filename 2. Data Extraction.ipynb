{
 "cells": [
  {
   "cell_type": "markdown",
   "metadata": {},
   "source": [
    "# Extraction"
   ]
  },
  {
   "cell_type": "code",
   "execution_count": 259,
   "metadata": {},
   "outputs": [],
   "source": [
    "# Import packages\n",
    "\n",
    "import os\n",
    "import math\n",
    "\n",
    "import numpy as np\n",
    "import pandas as pd\n",
    "import matplotlib.pyplot as plt"
   ]
  },
  {
   "cell_type": "markdown",
   "metadata": {},
   "source": [
    "## Split"
   ]
  },
  {
   "cell_type": "code",
   "execution_count": 260,
   "metadata": {},
   "outputs": [],
   "source": [
    "# Create list of all outputs files\n",
    "files = [file for file in os.listdir(os.getcwd() + \"/HEBBdata\") if \".txt\" in file]"
   ]
  },
  {
   "cell_type": "code",
   "execution_count": 261,
   "metadata": {},
   "outputs": [],
   "source": [
    "# Split outputs files into visual and auditory\n",
    "for file in files:\n",
    "    if \"AudioFirst\" in file:\n",
    "        with open(os.getcwd() + \"/HEBBdata/\" + file, \"r\") as src:\n",
    "            with open(os.getcwd() + \"/HEBBdataDivided/\" + file[:-4] + \" - Audio.txt\", \"w\") as audiodest:\n",
    "                for line in src.readlines()[:96]:\n",
    "                    audiodest.write(line)\n",
    "        with open(os.getcwd() + \"/HEBBdata/\" + file, \"r\") as src:\n",
    "            with open(os.getcwd() + \"/HEBBdataDivided/\" + file[:-4] + \" - Visual.txt\", \"w\") as visualdest:\n",
    "                for i, line in enumerate(src.readlines()[96:]):\n",
    "                    visualdest.write(line.replace(str(math.ceil((i+1)/2)+48), str(math.ceil((i+1)/2))))\n",
    "    elif \"VisualFirst\" in file:\n",
    "        with open(os.getcwd() + \"/HEBBdata/\" + file, \"r\") as src:\n",
    "            with open(os.getcwd() + \"/HEBBdataDivided/\" + file[:-4] + \" - Visual.txt\", \"w\") as visualdest:\n",
    "                for line in src.readlines()[:96]:\n",
    "                    visualdest.write(line)\n",
    "        with open(os.getcwd() + \"/HEBBdata/\" + file, \"r\") as src:\n",
    "            with open(os.getcwd() + \"/HEBBdataDivided/\" + file[:-4] + \" - Audio.txt\", \"w\") as audiodest:\n",
    "                for i, line in enumerate(src.readlines()[96:]):\n",
    "                    audiodest.write(line.replace(str(math.ceil((i+1)/2)+48), str(math.ceil((i+1)/2))))"
   ]
  },
  {
   "cell_type": "markdown",
   "metadata": {},
   "source": [
    "## Total"
   ]
  },
  {
   "cell_type": "code",
   "execution_count": 262,
   "metadata": {},
   "outputs": [],
   "source": [
    "files = [file for file in os.listdir(os.getcwd() + \"\\HEBBdataDivided\") if \".txt\" in file]"
   ]
  },
  {
   "cell_type": "code",
   "execution_count": 263,
   "metadata": {},
   "outputs": [],
   "source": [
    "# Create empty lists for the data extraction\n",
    "\n",
    "correct_occurrences = {i: [0 for j in range(9)] for i in range(12)}\n",
    "correct_opportunities = {i: [0 for j in range(9)] for i in range(12)}\n",
    "\n",
    "minus_occurrences = {i: [0 for j in range(8)] for i in range(12)}\n",
    "minus_opportunities = {i: [0 for j in range(8)] for i in range(12)}\n",
    "plus_occurrences = {i: [0 for j in range(8)] for i in range(12)}\n",
    "plus_opportunities = {i: [0 for j in range(8)] for i in range(12)}\n",
    "\n",
    "correct_slopes = []\n",
    "error_slopes = []\n",
    "\n",
    "repeated = [i for i in range(1, 49) if i % 4 == 0]"
   ]
  },
  {
   "cell_type": "code",
   "execution_count": 264,
   "metadata": {},
   "outputs": [],
   "source": [
    "for file in files:\n",
    "    with open(os.getcwd() + \"\\HEBBdataDivided\\\\\" + file) as f:\n",
    "        correct_count = [0 for i in range(9)]\n",
    "        minus_count = [0 for i in range(8)]\n",
    "        plus_count = [0 for i in range(8)]\n",
    "        for line in f:\n",
    "            splitted = line.strip().split(\" \")\n",
    "            if splitted[0] == \"Clicked\" and int(splitted[1].strip(\"():\")) in repeated:\n",
    "                answers = splitted[2:]\n",
    "                for i in range(9):\n",
    "                    correct_opportunities[correct_count[i]][i] += 1\n",
    "                    if correct[i] == answers[i]:\n",
    "                        correct_occurrences[correct_count[i]][i] += 1\n",
    "                        correct_count[i] += 1\n",
    "                for i in range(8):\n",
    "                    minus_opportunities[minus_count[i]][i] += 1\n",
    "                    plus_opportunities[plus_count[i]][i] += 1\n",
    "                    if correct[i] == answers[i + 1]:\n",
    "                        minus_occurrences[minus_count[i]][i] += 1\n",
    "                        minus_count[i] += 1\n",
    "                    if correct[i + 1] == answers[i]:\n",
    "                        plus_occurrences[plus_count[i]][i] += 1\n",
    "                        plus_count[i] += 1\n",
    "            elif splitted[0] == \"Said\" and int(splitted[1].strip(\"():\")) == 4:\n",
    "                correct = splitted[2:]"
   ]
  },
  {
   "cell_type": "code",
   "execution_count": 265,
   "metadata": {},
   "outputs": [
    {
     "name": "stdout",
     "output_type": "stream",
     "text": [
      "Correct Slope 1: 0.037025401069518765\n",
      "Correct Slope 2: 0.06895957769029291\n",
      "Correct Slope 3: 0.023344371726038825\n",
      "Correct Slope 4: 0.09743508811553833\n",
      "Correct Slope 5: 0.029526976221406175\n",
      "Correct Slope 6: 0.08504446640316204\n",
      "Correct Slope 7: 0.03341147280234441\n",
      "Correct Slope 8: 0.054290367874618155\n",
      "Correct Slope 9: 0.08185639287612977\n"
     ]
    }
   ],
   "source": [
    "with open(\"totalcorrect.txt\", mode=\"w\") as f:\n",
    "    probabilities = []\n",
    "    f.write(\"\\t\".join([\"Serial_position\"] + [str(i) for i in range(1, 5)]) + \"\\n\")\n",
    "    for i in range(9):\n",
    "        f.write(str(i + 1))\n",
    "        row_probability = []\n",
    "        for j in range(1, 5):\n",
    "            f.write(\"\\t\" + str(correct_occurrences[j][i] / correct_opportunities[j][i]))\n",
    "            # append probabilities for j occurence\n",
    "            row_probability.append(correct_occurrences[j][i] / correct_opportunities[j][i])\n",
    "        f.write(\"\\n\")\n",
    "        # append probabilities for i \"row/serial position\"\n",
    "        probabilities.append(row_probability)\n",
    "    # calculate slope for each \"row/serial position\"\n",
    "    x = [1, 2, 3, 4]\n",
    "    correct_slopes = []\n",
    "    for i in range(9):\n",
    "        slope, intercept = np.polyfit(x, probabilities[i], 1)\n",
    "        correct_slopes.append(slope)\n",
    "        print(\"Correct Slope \" + str(i + 1) + \": \" + str(slope))"
   ]
  },
  {
   "cell_type": "code",
   "execution_count": 266,
   "metadata": {},
   "outputs": [
    {
     "name": "stdout",
     "output_type": "stream",
     "text": [
      "Error Slope 1: -0.0432098765432099\n",
      "Error Slope 2: -0.036883223684210535\n",
      "Error Slope 3: 0.06640729483282674\n",
      "Error Slope 4: 0.07766483516483517\n",
      "Error Slope 5: 0.09599551203590373\n",
      "Error Slope 6: -0.025235487404162097\n",
      "Error Slope 7: 0.01995160314579552\n",
      "Error Slope 8: 0.2636559899940182\n",
      "Error Slope 9: -0.038383239982766056\n",
      "Error Slope 10: -0.04325608593953047\n",
      "Error Slope 11: 0.03498734817813767\n",
      "Error Slope 12: 0.05026471101254045\n",
      "Error Slope 13: -0.023020707719038917\n",
      "Error Slope 14: 0.028450486539019073\n",
      "Error Slope 15: -0.012914805624483053\n",
      "Error Slope 16: 0.011603490022543196\n"
     ]
    }
   ],
   "source": [
    "with open(\"totalerror.txt\", mode=\"w\") as f:\n",
    "    probabilities = []\n",
    "    f.write(\"\\t\".join([\"Transposition\"] + [str(i) for i in range(1, 5)]) + \"\\n\")\n",
    "    for i in range(8):\n",
    "        f.write(\"T{} + 1\".format(i + 1))\n",
    "        row_probability = []\n",
    "        for j in range(1, 5):\n",
    "            if plus_opportunities[j][i]:\n",
    "                result = str(plus_occurrences[j][i] / plus_opportunities[j][i])\n",
    "                # append probabilities for j occurence\n",
    "                row_probability.append(plus_occurrences[j][i] / plus_opportunities[j][i])\n",
    "            else:\n",
    "                result = \"NaN\"\n",
    "            f.write(\"\\t\" + result)\n",
    "        # append probabilities for i \"row/transposition\"\n",
    "        probabilities.append(row_probability)\n",
    "        row_probability = []\n",
    "        f.write(\"\\n\")\n",
    "        f.write(\"T{} - 1\".format(i + 2))\n",
    "        for j in range(1, 5):\n",
    "            if minus_opportunities[j][i]:\n",
    "                result = str(minus_occurrences[j][i] / minus_opportunities[j][i])\n",
    "                # append probabilities for j occurence\n",
    "                row_probability.append(minus_occurrences[j][i] / minus_opportunities[j][i])\n",
    "            else:\n",
    "                result = \"NaN\"\n",
    "            f.write(\"\\t\" + result)\n",
    "        # append probabilities for i \"row/transposition\"\n",
    "        probabilities.append(row_probability)\n",
    "        f.write(\"\\n\")\n",
    "    # calculate slope for each \"row/serial position\"\n",
    "    for i in range(16):\n",
    "        slope, intercept = np.polyfit(list(range(1, len(probabilities[i]) + 1)), probabilities[i], 1)\n",
    "        error_slopes.append(slope)\n",
    "        print(\"Error Slope \" + str(i + 1) + \": \" + str(slope))"
   ]
  },
  {
   "cell_type": "code",
   "execution_count": 267,
   "metadata": {},
   "outputs": [],
   "source": [
    "# Writes new file \"correctwslopes.txt\" with slope values\n",
    "with open(\"totalcorrect.txt\", \"r\") as src:\n",
    "    with open(\"totalcorrectwslopes.txt\", \"w\") as dest:\n",
    "        for i, line in enumerate(src):\n",
    "            if i == 0:\n",
    "                dest.write(\"%s%s\\n\" % (line.rstrip(\"\\n\"), \"\\tSlope\"))\n",
    "            else:\n",
    "                dest.write(\"%s%s\\n\" % (line.rstrip(\"\\n\"), \"\\t\"+str(correct_slopes[i-1])))"
   ]
  },
  {
   "cell_type": "code",
   "execution_count": 268,
   "metadata": {},
   "outputs": [],
   "source": [
    "# Writes new file \"errorwslopes.txt\" with slope values\n",
    "with open(\"totalerror.txt\", \"r\") as src:\n",
    "    with open(\"totalerrorwslopes.txt\", \"w\") as dest:\n",
    "        for i, line in enumerate(src):\n",
    "            if i == 0:\n",
    "                dest.write(\"%s%s\\n\" % (line.rstrip(\"\\n\"), \"\\tSlope\"))\n",
    "            else:\n",
    "                dest.write(\"%s%s\\n\" % (line.rstrip(\"\\n\"), \"\\t\"+str(error_slopes[i-1])))"
   ]
  },
  {
   "cell_type": "markdown",
   "metadata": {},
   "source": [
    "## Audio"
   ]
  },
  {
   "cell_type": "code",
   "execution_count": 269,
   "metadata": {},
   "outputs": [],
   "source": [
    "# Create list of auditory files\n",
    "files_audio = [file for file in os.listdir(os.getcwd() + \"/HEBBdataDivided\") if \"- Audio\" in file]"
   ]
  },
  {
   "cell_type": "code",
   "execution_count": 270,
   "metadata": {},
   "outputs": [],
   "source": [
    "# Create empty lists for the data extraction\n",
    "\n",
    "correct_occurrences = {i: [0 for j in range(9)] for i in range(12)}\n",
    "correct_opportunities = {i: [0 for j in range(9)] for i in range(12)}\n",
    "\n",
    "minus_occurrences = {i: [0 for j in range(8)] for i in range(12)}\n",
    "minus_opportunities = {i: [0 for j in range(8)] for i in range(12)}\n",
    "plus_occurrences = {i: [0 for j in range(8)] for i in range(12)}\n",
    "plus_opportunities = {i: [0 for j in range(8)] for i in range(12)}\n",
    "\n",
    "correct_slopes = []\n",
    "error_slopes = []\n",
    "\n",
    "repeated = [i for i in range(1, 49) if i % 4 == 0]"
   ]
  },
  {
   "cell_type": "code",
   "execution_count": 271,
   "metadata": {},
   "outputs": [],
   "source": [
    "for file in files_audio:\n",
    "    with open(os.getcwd() + \"\\HEBBdataDivided\\\\\" + file) as f:\n",
    "        correct_count = [0 for i in range(9)]\n",
    "        minus_count = [0 for i in range(8)]\n",
    "        plus_count = [0 for i in range(8)]\n",
    "        for line in f:\n",
    "            splitted = line.strip().split(\" \")\n",
    "            if splitted[0] == \"Clicked\" and int(splitted[1].strip(\"():\")) in repeated:\n",
    "                answers = splitted[2:]\n",
    "                for i in range(9):\n",
    "                    correct_opportunities[correct_count[i]][i] += 1\n",
    "                    if correct[i] == answers[i]:\n",
    "                        correct_occurrences[correct_count[i]][i] += 1\n",
    "                        correct_count[i] += 1\n",
    "                for i in range(8):\n",
    "                    minus_opportunities[minus_count[i]][i] += 1\n",
    "                    plus_opportunities[plus_count[i]][i] += 1\n",
    "                    if correct[i] == answers[i + 1]:\n",
    "                        minus_occurrences[minus_count[i]][i] += 1\n",
    "                        minus_count[i] += 1\n",
    "                    if correct[i + 1] == answers[i]:\n",
    "                        plus_occurrences[plus_count[i]][i] += 1\n",
    "                        plus_count[i] += 1\n",
    "            elif splitted[0] == \"Said\" and int(splitted[1].strip(\"():\")) == 4:\n",
    "                correct = splitted[2:]"
   ]
  },
  {
   "cell_type": "code",
   "execution_count": 272,
   "metadata": {},
   "outputs": [
    {
     "name": "stdout",
     "output_type": "stream",
     "text": [
      "Correct Slope 1: 0.034044771018455204\n",
      "Correct Slope 2: 0.0942442628859786\n",
      "Correct Slope 3: 0.02856047536898591\n",
      "Correct Slope 4: 0.10973725105304058\n",
      "Correct Slope 5: 0.06497657306374012\n",
      "Correct Slope 6: 0.16912206073496397\n",
      "Correct Slope 7: 0.008265412748171375\n",
      "Correct Slope 8: 0.0345971750966622\n",
      "Correct Slope 9: 0.06232997703585946\n"
     ]
    }
   ],
   "source": [
    "with open(\"audiocorrect.txt\", mode=\"w\") as f:\n",
    "    probabilities = []\n",
    "    f.write(\"\\t\".join([\"Serial_position\"] + [str(i) for i in range(1, 5)]) + \"\\n\")\n",
    "    for i in range(9):\n",
    "        f.write(str(i + 1))\n",
    "        row_probability = []\n",
    "        for j in range(1, 5):\n",
    "            f.write(\"\\t\" + str(correct_occurrences[j][i] / correct_opportunities[j][i]))\n",
    "            # append probabilities for j occurence\n",
    "            row_probability.append(correct_occurrences[j][i] / correct_opportunities[j][i])\n",
    "        f.write(\"\\n\")\n",
    "        # append probabilities for i \"row/serial position\"\n",
    "        probabilities.append(row_probability)\n",
    "    # calculate slope for each \"row/serial position\"\n",
    "    x = [1, 2, 3, 4]\n",
    "    correct_slopes = []\n",
    "    for i in range(9):\n",
    "        slope, intercept = np.polyfit(x, probabilities[i], 1)\n",
    "        correct_slopes.append(slope)\n",
    "        print(\"Correct Slope \" + str(i + 1) + \": \" + str(slope))"
   ]
  },
  {
   "cell_type": "code",
   "execution_count": 273,
   "metadata": {},
   "outputs": [
    {
     "name": "stdout",
     "output_type": "stream",
     "text": [
      "Error Slope 1: -0.04285714285714288\n",
      "Error Slope 2: -0.06307692307692309\n",
      "Error Slope 3: 0.27733286085518555\n",
      "Error Slope 4: 0.2782485875706215\n",
      "Error Slope 5: 0.10047619047619052\n",
      "Error Slope 6: -0.009523809523809516\n",
      "Error Slope 7: 0.1214044943820225\n",
      "Error Slope 8: 0.2503732981993852\n",
      "Error Slope 9: -0.004166666666666681\n",
      "Error Slope 10: -0.04622550497437445\n",
      "Error Slope 11: 0.04725274725274725\n",
      "Error Slope 12: 0.08311335403726709\n",
      "Error Slope 13: -0.0201208031778854\n",
      "Error Slope 14: 0.01707092907092907\n",
      "Error Slope 15: 0.02550505050505052\n",
      "Error Slope 16: 0.05845238095238096\n"
     ]
    }
   ],
   "source": [
    "with open(\"audioerror.txt\", mode=\"w\") as f:\n",
    "    probabilities = []\n",
    "    f.write(\"\\t\".join([\"Transposition\"] + [str(i) for i in range(1, 5)]) + \"\\n\")\n",
    "    for i in range(8):\n",
    "        f.write(\"T{} + 1\".format(i + 1))\n",
    "        row_probability = []\n",
    "        for j in range(1, 5):\n",
    "            if plus_opportunities[j][i]:\n",
    "                result = str(plus_occurrences[j][i] / plus_opportunities[j][i])\n",
    "                # append probabilities for j occurence\n",
    "                row_probability.append(plus_occurrences[j][i] / plus_opportunities[j][i])\n",
    "            else:\n",
    "                result = \"NaN\"\n",
    "            f.write(\"\\t\" + result)\n",
    "        # append probabilities for i \"row/transposition\"\n",
    "        probabilities.append(row_probability)\n",
    "        row_probability = []\n",
    "        f.write(\"\\n\")\n",
    "        f.write(\"T{} - 1\".format(i + 2))\n",
    "        for j in range(1, 5):\n",
    "            if minus_opportunities[j][i]:\n",
    "                result = str(minus_occurrences[j][i] / minus_opportunities[j][i])\n",
    "                # append probabilities for j occurence\n",
    "                row_probability.append(minus_occurrences[j][i] / minus_opportunities[j][i])\n",
    "            else:\n",
    "                result = \"NaN\"\n",
    "            f.write(\"\\t\" + result)\n",
    "        # append probabilities for i \"row/transposition\"\n",
    "        probabilities.append(row_probability)\n",
    "        f.write(\"\\n\")\n",
    "    # calculate slope for each \"row/serial position\"\n",
    "    for i in range(16):\n",
    "        slope, intercept = np.polyfit(list(range(1, len(probabilities[i]) + 1)), probabilities[i], 1)\n",
    "        error_slopes.append(slope)\n",
    "        print(\"Error Slope \" + str(i + 1) + \": \" + str(slope))"
   ]
  },
  {
   "cell_type": "code",
   "execution_count": 274,
   "metadata": {},
   "outputs": [],
   "source": [
    "# Writes new file \"correctwslopes.txt\" with slope values\n",
    "with open(\"audiocorrect.txt\", \"r\") as src:\n",
    "    with open(\"audiocorrectwslopes.txt\", \"w\") as dest:\n",
    "        for i, line in enumerate(src):\n",
    "            if i == 0:\n",
    "                dest.write(\"%s%s\\n\" % (line.rstrip(\"\\n\"), \"\\tSlope\"))\n",
    "            else:\n",
    "                dest.write(\"%s%s\\n\" % (line.rstrip(\"\\n\"), \"\\t\"+str(correct_slopes[i-1])))"
   ]
  },
  {
   "cell_type": "code",
   "execution_count": 275,
   "metadata": {},
   "outputs": [],
   "source": [
    "# Writes new file \"errorwslopes.txt\" with slope values\n",
    "with open(\"audioerror.txt\", \"r\") as src:\n",
    "    with open(\"audioerrorwslopes.txt\", \"w\") as dest:\n",
    "        for i, line in enumerate(src):\n",
    "            if i == 0:\n",
    "                dest.write(\"%s%s\\n\" % (line.rstrip(\"\\n\"), \"\\tSlope\"))\n",
    "            else:\n",
    "                dest.write(\"%s%s\\n\" % (line.rstrip(\"\\n\"), \"\\t\"+str(error_slopes[i-1])))"
   ]
  },
  {
   "cell_type": "markdown",
   "metadata": {},
   "source": [
    "## Visual "
   ]
  },
  {
   "cell_type": "code",
   "execution_count": 276,
   "metadata": {},
   "outputs": [],
   "source": [
    "# Create list of visual files\n",
    "files_visual = [file for file in os.listdir(os.getcwd() + \"/HEBBdataDivided\") if \"- Visual\" in file]"
   ]
  },
  {
   "cell_type": "code",
   "execution_count": 277,
   "metadata": {},
   "outputs": [],
   "source": [
    "# Create empty lists for the data extraction\n",
    "\n",
    "correct_occurrences = {i: [0 for j in range(9)] for i in range(12)}\n",
    "correct_opportunities = {i: [0 for j in range(9)] for i in range(12)}\n",
    "\n",
    "minus_occurrences = {i: [0 for j in range(8)] for i in range(12)}\n",
    "minus_opportunities = {i: [0 for j in range(8)] for i in range(12)}\n",
    "plus_occurrences = {i: [0 for j in range(8)] for i in range(12)}\n",
    "plus_opportunities = {i: [0 for j in range(8)] for i in range(12)}\n",
    "\n",
    "correct_slopes = []\n",
    "error_slopes = []\n",
    "\n",
    "repeated = [i for i in range(1, 49) if i % 4 == 0]"
   ]
  },
  {
   "cell_type": "code",
   "execution_count": 278,
   "metadata": {},
   "outputs": [],
   "source": [
    "for file in files_visual:\n",
    "    with open(os.getcwd() + \"\\HEBBdataDivided\\\\\" + file) as f:\n",
    "        correct_count = [0 for i in range(9)]\n",
    "        minus_count = [0 for i in range(8)]\n",
    "        plus_count = [0 for i in range(8)]\n",
    "        for line in f:\n",
    "            splitted = line.strip().split(\" \")\n",
    "            if splitted[0] == \"Clicked\" and int(splitted[1].strip(\"():\")) in repeated:\n",
    "                answers = splitted[2:]\n",
    "                for i in range(9):\n",
    "                    correct_opportunities[correct_count[i]][i] += 1\n",
    "                    if correct[i] == answers[i]:\n",
    "                        correct_occurrences[correct_count[i]][i] += 1\n",
    "                        correct_count[i] += 1\n",
    "                for i in range(8):\n",
    "                    minus_opportunities[minus_count[i]][i] += 1\n",
    "                    plus_opportunities[plus_count[i]][i] += 1\n",
    "                    if correct[i] == answers[i + 1]:\n",
    "                        minus_occurrences[minus_count[i]][i] += 1\n",
    "                        minus_count[i] += 1\n",
    "                    if correct[i + 1] == answers[i]:\n",
    "                        plus_occurrences[plus_count[i]][i] += 1\n",
    "                        plus_count[i] += 1\n",
    "            elif splitted[0] == \"Said\" and int(splitted[1].strip(\"():\")) == 4:\n",
    "                correct = splitted[2:]"
   ]
  },
  {
   "cell_type": "code",
   "execution_count": 279,
   "metadata": {},
   "outputs": [
    {
     "name": "stdout",
     "output_type": "stream",
     "text": [
      "Correct Slope 1: 0.0390909090909091\n",
      "Correct Slope 2: 0.04560378062430044\n",
      "Correct Slope 3: 0.019074494346233498\n",
      "Correct Slope 4: 0.09035586277521766\n",
      "Correct Slope 5: 0.015189459930313624\n",
      "Correct Slope 6: 0.031663210738841\n",
      "Correct Slope 7: 0.06378524534909037\n",
      "Correct Slope 8: 0.07582117158204114\n",
      "Correct Slope 9: 0.09030398186597659\n"
     ]
    }
   ],
   "source": [
    "with open(\"visualcorrect.txt\", mode=\"w\") as f:\n",
    "    probabilities = []\n",
    "    f.write(\"\\t\".join([\"Serial_position\"] + [str(i) for i in range(1, 5)]) + \"\\n\")\n",
    "    for i in range(9):\n",
    "        f.write(str(i + 1))\n",
    "        row_probability = []\n",
    "        for j in range(1, 5):\n",
    "            f.write(\"\\t\" + str(correct_occurrences[j][i] / correct_opportunities[j][i]))\n",
    "            # append probabilities for j occurence\n",
    "            row_probability.append(correct_occurrences[j][i] / correct_opportunities[j][i])\n",
    "        f.write(\"\\n\")\n",
    "        # append probabilities for i \"row/serial position\"\n",
    "        probabilities.append(row_probability)\n",
    "    # calculate slope for each \"row/serial position\"\n",
    "    x = [1, 2, 3, 4]\n",
    "    correct_slopes = []\n",
    "    for i in range(9):\n",
    "        slope, intercept = np.polyfit(x, probabilities[i], 1)\n",
    "        correct_slopes.append(slope)\n",
    "        print(\"Correct Slope \" + str(i + 1) + \": \" + str(slope))"
   ]
  },
  {
   "cell_type": "code",
   "execution_count": 280,
   "metadata": {},
   "outputs": [
    {
     "name": "stdout",
     "output_type": "stream",
     "text": [
      "Error Slope 1: -0.04347826086956525\n",
      "Error Slope 2: -0.03174603174603178\n",
      "Error Slope 3: 0.018565531475748197\n",
      "Error Slope 4: 0.04464285714285715\n",
      "Error Slope 5: -0.03787878787878791\n",
      "Error Slope 6: -0.03037940379403796\n",
      "Error Slope 7: -0.034173441734417345\n",
      "Error Slope 8: -0.05232558139534885\n",
      "Error Slope 9: -0.04450678733031673\n",
      "Error Slope 10: -0.04081391736564152\n",
      "Error Slope 11: 0.02484848484848485\n",
      "Error Slope 12: 0.017344173441734424\n",
      "Error Slope 13: 0.004356673531430795\n",
      "Error Slope 14: 0.06469717497114756\n",
      "Error Slope 15: -0.02671052631578946\n",
      "Error Slope 16: -0.0051081602056115005\n"
     ]
    }
   ],
   "source": [
    "with open(\"visualerror.txt\", mode=\"w\") as f:\n",
    "    probabilities = []\n",
    "    f.write(\"\\t\".join([\"Transposition\"] + [str(i) for i in range(1, 5)]) + \"\\n\")\n",
    "    for i in range(8):\n",
    "        f.write(\"T{} + 1\".format(i + 1))\n",
    "        row_probability = []\n",
    "        for j in range(1, 5):\n",
    "            if plus_opportunities[j][i]:\n",
    "                result = str(plus_occurrences[j][i] / plus_opportunities[j][i])\n",
    "                # append probabilities for j occurence\n",
    "                row_probability.append(plus_occurrences[j][i] / plus_opportunities[j][i])\n",
    "            else:\n",
    "                result = \"NaN\"\n",
    "            f.write(\"\\t\" + result)\n",
    "        # append probabilities for i \"row/transposition\"\n",
    "        probabilities.append(row_probability)\n",
    "        row_probability = []\n",
    "        f.write(\"\\n\")\n",
    "        f.write(\"T{} - 1\".format(i + 2))\n",
    "        for j in range(1, 5):\n",
    "            if minus_opportunities[j][i]:\n",
    "                result = str(minus_occurrences[j][i] / minus_opportunities[j][i])\n",
    "                # append probabilities for j occurence\n",
    "                row_probability.append(minus_occurrences[j][i] / minus_opportunities[j][i])\n",
    "            else:\n",
    "                result = \"NaN\"\n",
    "            f.write(\"\\t\" + result)\n",
    "        # append probabilities for i \"row/transposition\"\n",
    "        probabilities.append(row_probability)\n",
    "        f.write(\"\\n\")\n",
    "    # calculate slope for each \"row/serial position\"\n",
    "    for i in range(16):\n",
    "        slope, intercept = np.polyfit(list(range(1, len(probabilities[i]) + 1)), probabilities[i], 1)\n",
    "        error_slopes.append(slope)\n",
    "        print(\"Error Slope \" + str(i + 1) + \": \" + str(slope))"
   ]
  },
  {
   "cell_type": "code",
   "execution_count": 281,
   "metadata": {},
   "outputs": [],
   "source": [
    "# Writes new file \"correctwslopes.txt\" with slope values\n",
    "with open(\"visualcorrect.txt\", \"r\") as src:\n",
    "    with open(\"visualcorrectwslopes.txt\", \"w\") as dest:\n",
    "        for i, line in enumerate(src):\n",
    "            if i == 0:\n",
    "                dest.write(\"%s%s\\n\" % (line.rstrip(\"\\n\"), \"\\tSlope\"))\n",
    "            else:\n",
    "                dest.write(\"%s%s\\n\" % (line.rstrip(\"\\n\"), \"\\t\"+str(correct_slopes[i-1])))"
   ]
  },
  {
   "cell_type": "code",
   "execution_count": 282,
   "metadata": {},
   "outputs": [],
   "source": [
    "# Writes new file \"errorwslopes.txt\" with slope values\n",
    "with open(\"visualerror.txt\", \"r\") as src:\n",
    "    with open(\"visualerrorwslopes.txt\", \"w\") as dest:\n",
    "        for i, line in enumerate(src):\n",
    "            if i == 0:\n",
    "                dest.write(\"%s%s\\n\" % (line.rstrip(\"\\n\"), \"\\tSlope\"))\n",
    "            else:\n",
    "                dest.write(\"%s%s\\n\" % (line.rstrip(\"\\n\"), \"\\t\"+str(error_slopes[i-1])))"
   ]
  }
 ],
 "metadata": {
  "interpreter": {
   "hash": "6345758e5d736e732c2a7feeb6de508c9984c306a9009e8a74375b042c9b7f5c"
  },
  "kernelspec": {
   "display_name": "Python 3.8.11 64-bit ('base': conda)",
   "language": "python",
   "name": "python3"
  },
  "language_info": {
   "codemirror_mode": {
    "name": "ipython",
    "version": 3
   },
   "file_extension": ".py",
   "mimetype": "text/x-python",
   "name": "python",
   "nbconvert_exporter": "python",
   "pygments_lexer": "ipython3",
   "version": "3.8.11"
  },
  "orig_nbformat": 4
 },
 "nbformat": 4,
 "nbformat_minor": 2
}
